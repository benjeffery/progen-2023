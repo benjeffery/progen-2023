{
 "cells": [
  {
   "cell_type": "markdown",
   "id": "f0e395df-c8d0-4293-a432-7d5ae182a318",
   "metadata": {},
   "source": [
    "# New and notable tskit features\n",
    "\n",
    "Our contributor community is active: tskit is being constantly improved by contributors from around the world.\n",
    "These constantly change the featureset of tskit, bug fixes, improvements to the efficiency of existing features.\n",
    "This notebook will demonstrate a small subset of the features that were added to tskit in 2022:"
   ]
  },
  {
   "cell_type": "code",
   "execution_count": null,
   "id": "4bc7637c-8ea5-4237-8a8d-d54983baf00a",
   "metadata": {},
   "outputs": [],
   "source": [
    "import msprime # used to generate datasets\n",
    "import tskit\n",
    "import numba # used in the 'efficient array access' section\n",
    "import numpy as np\n",
    "import matplotlib.pyplot as plt # used for plots in tree balance section"
   ]
  },
  {
   "cell_type": "markdown",
   "id": "a36685b3-24c2-473b-8d3d-bb1c6126d661",
   "metadata": {},
   "source": [
    "Test data we'll use:"
   ]
  },
  {
   "cell_type": "code",
   "execution_count": null,
   "id": "13328573-731d-4bf6-8c37-2367eb17f907",
   "metadata": {},
   "outputs": [],
   "source": [
    "ts = msprime.sim_ancestry( # 1Mb human-ish tree sequence\n",
    "            samples=1e4,\n",
    "            sequence_length=1e6,\n",
    "            random_seed=408,\n",
    "            recombination_rate=1e-8,\n",
    "            population_size = 10000\n",
    ")\n",
    "t = ts.first() # big tree\n",
    "\n",
    "ts0 = msprime.sim_ancestry( # small tree sequence\n",
    "            samples=2,\n",
    "            sequence_length=10,\n",
    "            random_seed=107,\n",
    "            recombination_rate=0.01\n",
    ")\n",
    "t0 = ts0.first() # small tree"
   ]
  },
  {
   "cell_type": "code",
   "execution_count": null,
   "id": "335f84fd-693c-4775-aebf-8287a3212fcd",
   "metadata": {},
   "outputs": [],
   "source": [
    "print(ts.num_trees)\n",
    "print(ts0.num_trees)"
   ]
  },
  {
   "cell_type": "markdown",
   "id": "acbec252-7c1f-42ba-a4bd-409fd1041b2b",
   "metadata": {},
   "source": [
    "## Efficient array access\n",
    "\n",
    "*GT notes: For poster purposes, the most important code cells here are 3, 4, 6, 8, 9*\n",
    "\n",
    "Relationships between nodes in individual trees can now be extracted as `numpy` arrays."
   ]
  },
  {
   "cell_type": "code",
   "execution_count": null,
   "id": "7cba5794-648b-4635-8ff3-d19bbc216fb0",
   "metadata": {},
   "outputs": [],
   "source": [
    "t0.draw()"
   ]
  },
  {
   "cell_type": "markdown",
   "id": "5eb6b05a-c97c-4f83-ba90-40b0f00be451",
   "metadata": {},
   "source": [
    "For example, the `parent_array` is an array that lists, at position i, the parent of the ith node in the tree. In the parent array obtained from the tree `t0`, the 2nd and 3rd elements are 5 because sample nodes 2 and 3 are immediate descendants of node 5. The 4th element is -1 because node 4 is not present in `t0`."
   ]
  },
  {
   "cell_type": "code",
   "execution_count": null,
   "id": "843f5f2a-b13a-4903-bc9a-33f884513c52",
   "metadata": {},
   "outputs": [],
   "source": [
    "t0.parent_array"
   ]
  },
  {
   "cell_type": "markdown",
   "id": "2834acb9-c693-46e5-a731-1043272aa52c",
   "metadata": {},
   "source": [
    "This method is **fast and efficient**: on the order of nanoseconds for a tree with 10s of 1000s of samples!"
   ]
  },
  {
   "cell_type": "code",
   "execution_count": null,
   "id": "20b4974d-4994-4aaa-9403-4d83ccfdef46",
   "metadata": {},
   "outputs": [],
   "source": [
    "%%timeit\n",
    "\n",
    "t.parent_array"
   ]
  },
  {
   "cell_type": "markdown",
   "id": "c80aed06-a936-42c6-b21d-232b0b370064",
   "metadata": {},
   "source": [
    "When used in conjunction with the `numba` package,\n",
    "these arrays make it possible to write Python-based calculations on the trees that run as speedily as machine-level code.\n",
    "For instance, suppose we want to calculate the total branch length of our trees.\n",
    "There are straightforward ways to do this in Python using `tskit`'s existing iterators, like this:"
   ]
  },
  {
   "cell_type": "code",
   "execution_count": null,
   "id": "2fe0c435-ad69-41cc-8068-8ef0af41c608",
   "metadata": {},
   "outputs": [],
   "source": [
    "%%timeit\n",
    "\n",
    "total_py = sum(t.branch_length(u) for u in t.nodes())"
   ]
  },
  {
   "cell_type": "markdown",
   "id": "eeeb9034-2a3a-4011-9d5a-0d6792eba6ec",
   "metadata": {},
   "source": [
    "There is also an inbuilt `tskit` function called `total_branch_length`. It is significantly faster because it runs in C:"
   ]
  },
  {
   "cell_type": "code",
   "execution_count": null,
   "id": "9437267b-b7d6-4188-8bd1-cd436e1c708c",
   "metadata": {},
   "outputs": [],
   "source": [
    "%%timeit\n",
    "\n",
    "total_tskit = t.total_branch_length"
   ]
  },
  {
   "cell_type": "markdown",
   "id": "6d0cec74-8d6c-4efe-a55d-603568275a80",
   "metadata": {},
   "source": [
    "Here is an function using `numba` that performs the same calculation. Having the `parent_array` is **key** here, as numba works most efficiently when it is fed numpy arrays as input."
   ]
  },
  {
   "cell_type": "code",
   "execution_count": null,
   "id": "fb5249d5-8722-49d4-8937-270ae2ec800d",
   "metadata": {},
   "outputs": [],
   "source": [
    "@numba.njit\n",
    "def _total_branch_length(preorder, parent, node_time):\n",
    "     tbl = 0\n",
    "     for u in preorder:\n",
    "          if parent[u] != -1:\n",
    "               tbl += node_time[parent[u]] - node_time[u]\n",
    "     return tbl\n",
    "\n",
    "def get_total_branch_length(tree):\n",
    "     return _total_branch_length(tree.preorder(), tree.parent_array, tree.tree_sequence.nodes_time)\n",
    "    \n",
    "get_total_branch_length(t0)"
   ]
  },
  {
   "cell_type": "markdown",
   "id": "b30ec75c-0690-4e82-bc06-becdb865de6d",
   "metadata": {},
   "source": [
    "How long does it take to run this on a tree with 10s of 000s of samples? Let's see:"
   ]
  },
  {
   "cell_type": "code",
   "execution_count": null,
   "id": "61fee9f2-e376-4ab9-9fea-3f84eac74168",
   "metadata": {},
   "outputs": [],
   "source": [
    "%%timeit\n",
    "\n",
    "total_numba = get_total_branch_length(t)"
   ]
  },
  {
   "cell_type": "markdown",
   "id": "04d64a38-c701-4b31-ade2-55afbf097572",
   "metadata": {},
   "source": [
    "Consider what we've just done: written some Python code that runs in about the same time as a (much more complicated and fiddly) C function!\n",
    "\n",
    "Many other calculations like this are possible using `tskit`'s new suite of tree array methods.\n",
    "See others, including: `left_child_array`, `left_child_array`, `right_child_array`,`left_sib_array`, `right_sib_array`..."
   ]
  },
  {
   "cell_type": "markdown",
   "id": "25f75dfb-3b3b-45c6-b830-2f715b749823",
   "metadata": {},
   "source": [
    "## Tree balance metrics\n",
    "\n",
    "A balanced (binary) tree is perfectly symmetric in some way: each node has an equally sized subtree descending from its left- and right- branches, where 'size' is determined via some metric involving numbers of nodes and/or lengths of branches. (is this a good definition???)\n",
    "`tskit` now contains several different metrics to calculate how unbalanced each tree is: `b1`, `b2`, `colless` and `sackin` (references for these?)"
   ]
  },
  {
   "cell_type": "code",
   "execution_count": null,
   "id": "18c5e5fa-ed91-4d84-b1b3-f74e962c8d0c",
   "metadata": {},
   "outputs": [],
   "source": [
    "b1 = [tree.b1_index() for tree in ts.trees()]"
   ]
  },
  {
   "cell_type": "code",
   "execution_count": null,
   "id": "099f3ad2-2e13-41fe-a698-7796f14c1b39",
   "metadata": {},
   "outputs": [],
   "source": [
    "b2 = [tree.b2_index() for tree in ts.trees()]"
   ]
  },
  {
   "cell_type": "code",
   "execution_count": null,
   "id": "50affc70-c310-4a60-b381-39999d7eb189",
   "metadata": {},
   "outputs": [],
   "source": [
    "colless = [tree.colless_index() for tree in ts.trees()]"
   ]
  },
  {
   "cell_type": "code",
   "execution_count": null,
   "id": "7777bf28-1be8-47f6-9536-063a9705f960",
   "metadata": {},
   "outputs": [],
   "source": [
    "sackin = [tree.sackin_index() for tree in ts.trees()]"
   ]
  },
  {
   "cell_type": "code",
   "execution_count": null,
   "id": "51cea2f1-a24b-48e9-9829-233245c2ac73",
   "metadata": {},
   "outputs": [],
   "source": [
    "def normalise_metric(in_values):\n",
    "    mean_val = np.mean(in_values)\n",
    "    std_val = np.std(in_values)\n",
    "    return (in_values - mean_val)/std_val\n",
    "\n",
    "b1_n = normalise_metric(b1)\n",
    "b2_n = normalise_metric(b2)\n",
    "colless_n = normalise_metric(colless)\n",
    "sackin_n = normalise_metric(sackin)"
   ]
  },
  {
   "cell_type": "code",
   "execution_count": null,
   "id": "b8ef873d-63fb-45f3-b321-9c6cd27ee404",
   "metadata": {},
   "outputs": [],
   "source": [
    "x = [tree.interval.left for tree in ts.trees()]\n",
    "\n",
    "fig, ax = plt.subplots(1, figsize=(16, 4))\n",
    "ax.grid(axis='y', color='grey', alpha=0.2)\n",
    "ax.grid(axis='x', color='grey', alpha=0.2)\n",
    "ax.step(x, b1_n, label='b1', alpha=0.7)\n",
    "ax.step(x, b2_n, label='b2', alpha=0.7)\n",
    "ax.step(x, colless_n, label='colless', alpha=0.7)\n",
    "ax.step(x, sackin_n, label='sackin', alpha=0.7)\n",
    "ax.set_title(\"Normalised tree balance metrics\")\n",
    "ax.set_xlabel(\"Genomic position\")\n",
    "ax.set_ylabel(\"Normalised value\")\n",
    "ax.legend()"
   ]
  },
  {
   "cell_type": "markdown",
   "id": "a049c85f-0fc6-4aa4-99ac-0aa0049cef32",
   "metadata": {},
   "source": [
    "## Reference sequence and alignments\n",
    "\n",
    "## Structural operations"
   ]
  },
  {
   "cell_type": "code",
   "execution_count": null,
   "id": "51e0ba87-1a45-47ce-a977-9bd898a1351a",
   "metadata": {},
   "outputs": [],
   "source": []
  }
 ],
 "metadata": {
  "kernelspec": {
   "display_name": "tspop-dev",
   "language": "python",
   "name": "tspop-dev"
  },
  "language_info": {
   "codemirror_mode": {
    "name": "ipython",
    "version": 3
   },
   "file_extension": ".py",
   "mimetype": "text/x-python",
   "name": "python",
   "nbconvert_exporter": "python",
   "pygments_lexer": "ipython3",
   "version": "3.9.15"
  }
 },
 "nbformat": 4,
 "nbformat_minor": 5
}
